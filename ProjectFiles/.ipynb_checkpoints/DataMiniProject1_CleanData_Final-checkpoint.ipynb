{
 "cells": [
  {
   "cell_type": "code",
   "execution_count": 2,
   "metadata": {},
   "outputs": [],
   "source": [
    "import pandas as pd\n",
    "from sqlalchemy import create_engine"
   ]
  },
  {
   "cell_type": "code",
   "execution_count": 3,
   "metadata": {},
   "outputs": [
    {
     "data": {
      "text/html": [
       "<div>\n",
       "<style scoped>\n",
       "    .dataframe tbody tr th:only-of-type {\n",
       "        vertical-align: middle;\n",
       "    }\n",
       "\n",
       "    .dataframe tbody tr th {\n",
       "        vertical-align: top;\n",
       "    }\n",
       "\n",
       "    .dataframe thead th {\n",
       "        text-align: right;\n",
       "    }\n",
       "</style>\n",
       "<table border=\"1\" class=\"dataframe\">\n",
       "  <thead>\n",
       "    <tr style=\"text-align: right;\">\n",
       "      <th></th>\n",
       "      <th>Case Number</th>\n",
       "      <th>Address</th>\n",
       "      <th>ZIP Code</th>\n",
       "      <th>Case Opened</th>\n",
       "      <th>Kiva PIN</th>\n",
       "      <th>Status of Case</th>\n",
       "      <th>Latitude</th>\n",
       "      <th>Longitude</th>\n",
       "      <th>Location</th>\n",
       "    </tr>\n",
       "  </thead>\n",
       "  <tbody>\n",
       "    <tr>\n",
       "      <th>0</th>\n",
       "      <td>1226669</td>\n",
       "      <td>1104 Ewing Ave</td>\n",
       "      <td>64126</td>\n",
       "      <td>08/20/2019</td>\n",
       "      <td>5246</td>\n",
       "      <td>Pre-Bid Process Ongoing</td>\n",
       "      <td>39.098316</td>\n",
       "      <td>-94.503382</td>\n",
       "      <td>1104 Ewing Ave\\nKansas City, MO 64126\\n(39.098...</td>\n",
       "    </tr>\n",
       "    <tr>\n",
       "      <th>1</th>\n",
       "      <td>1180446</td>\n",
       "      <td>5412 E 17th St</td>\n",
       "      <td>64127</td>\n",
       "      <td>06/21/2017</td>\n",
       "      <td>9421</td>\n",
       "      <td>Pre-Bid Process Ongoing</td>\n",
       "      <td>39.090801</td>\n",
       "      <td>-94.518413</td>\n",
       "      <td>5412 E 17th St\\nKansas City, MO 64127\\n(39.090...</td>\n",
       "    </tr>\n",
       "  </tbody>\n",
       "</table>\n",
       "</div>"
      ],
      "text/plain": [
       "   Case Number         Address  ZIP Code Case Opened  Kiva PIN  \\\n",
       "0      1226669  1104 Ewing Ave     64126  08/20/2019      5246   \n",
       "1      1180446  5412 E 17th St     64127  06/21/2017      9421   \n",
       "\n",
       "            Status of Case   Latitude  Longitude  \\\n",
       "0  Pre-Bid Process Ongoing  39.098316 -94.503382   \n",
       "1  Pre-Bid Process Ongoing  39.090801 -94.518413   \n",
       "\n",
       "                                            Location  \n",
       "0  1104 Ewing Ave\\nKansas City, MO 64126\\n(39.098...  \n",
       "1  5412 E 17th St\\nKansas City, MO 64127\\n(39.090...  "
      ]
     },
     "execution_count": 3,
     "metadata": {},
     "output_type": "execute_result"
    }
   ],
   "source": [
    "#Extract Dangerous Buildings data\n",
    "dangerous_file = \"../Resource/Dangerous_Buildings_List.csv\"\n",
    "dangerous_df = pd.read_csv(dangerous_file)\n",
    "dangerous_df.head(2)"
   ]
  },
  {
   "cell_type": "code",
   "execution_count": 4,
   "metadata": {},
   "outputs": [
    {
     "data": {
      "text/html": [
       "<div>\n",
       "<style scoped>\n",
       "    .dataframe tbody tr th:only-of-type {\n",
       "        vertical-align: middle;\n",
       "    }\n",
       "\n",
       "    .dataframe tbody tr th {\n",
       "        vertical-align: top;\n",
       "    }\n",
       "\n",
       "    .dataframe thead th {\n",
       "        text-align: right;\n",
       "    }\n",
       "</style>\n",
       "<table border=\"1\" class=\"dataframe\">\n",
       "  <thead>\n",
       "    <tr style=\"text-align: right;\">\n",
       "      <th></th>\n",
       "      <th>case_number</th>\n",
       "      <th>opened</th>\n",
       "      <th>case_status</th>\n",
       "      <th>latitude</th>\n",
       "      <th>longitude</th>\n",
       "      <th>location</th>\n",
       "    </tr>\n",
       "  </thead>\n",
       "  <tbody>\n",
       "    <tr>\n",
       "      <th>0</th>\n",
       "      <td>1226669</td>\n",
       "      <td>08/20/2019</td>\n",
       "      <td>Pre-Bid Process Ongoing</td>\n",
       "      <td>39.098316</td>\n",
       "      <td>-94.503382</td>\n",
       "      <td>1104 Ewing Ave\\nKansas City, MO 64126\\n(39.098...</td>\n",
       "    </tr>\n",
       "    <tr>\n",
       "      <th>1</th>\n",
       "      <td>1180446</td>\n",
       "      <td>06/21/2017</td>\n",
       "      <td>Pre-Bid Process Ongoing</td>\n",
       "      <td>39.090801</td>\n",
       "      <td>-94.518413</td>\n",
       "      <td>5412 E 17th St\\nKansas City, MO 64127\\n(39.090...</td>\n",
       "    </tr>\n",
       "  </tbody>\n",
       "</table>\n",
       "</div>"
      ],
      "text/plain": [
       "   case_number      opened              case_status   latitude  longitude  \\\n",
       "0      1226669  08/20/2019  Pre-Bid Process Ongoing  39.098316 -94.503382   \n",
       "1      1180446  06/21/2017  Pre-Bid Process Ongoing  39.090801 -94.518413   \n",
       "\n",
       "                                            location  \n",
       "0  1104 Ewing Ave\\nKansas City, MO 64126\\n(39.098...  \n",
       "1  5412 E 17th St\\nKansas City, MO 64127\\n(39.090...  "
      ]
     },
     "execution_count": 4,
     "metadata": {},
     "output_type": "execute_result"
    }
   ],
   "source": [
    "#Transform dangerous building DataFrame\n",
    "limit_dangerous_df = dangerous_df[['Case Number','Case Opened','Status of Case', 'Latitude','Longitude','Location']].copy()\n",
    "limit_dangerous_df = limit_dangerous_df.rename(columns={\"Case Number\":\"case_number\",\"Latitude\":\"latitude\", \"Longitude\":\"longitude\",\"Location\":\"location\",\"Case Opened\":\"opened\",\"Status of Case\":\"case_status\"})\n",
    "# limit_dangerous_df.set_index(\"Location\", inplace = True)\n",
    "limit_dangerous_df.head(2)"
   ]
  },
  {
   "cell_type": "code",
   "execution_count": 5,
   "metadata": {},
   "outputs": [
    {
     "data": {
      "text/html": [
       "<div>\n",
       "<style scoped>\n",
       "    .dataframe tbody tr th:only-of-type {\n",
       "        vertical-align: middle;\n",
       "    }\n",
       "\n",
       "    .dataframe tbody tr th {\n",
       "        vertical-align: top;\n",
       "    }\n",
       "\n",
       "    .dataframe thead th {\n",
       "        text-align: right;\n",
       "    }\n",
       "</style>\n",
       "<table border=\"1\" class=\"dataframe\">\n",
       "  <thead>\n",
       "    <tr style=\"text-align: right;\">\n",
       "      <th></th>\n",
       "      <th>Service Order Number</th>\n",
       "      <th>Date Opened</th>\n",
       "      <th>Structure Status</th>\n",
       "      <th>Address</th>\n",
       "      <th>City</th>\n",
       "      <th>State</th>\n",
       "      <th>Zip Code</th>\n",
       "      <th>Neighborhood</th>\n",
       "      <th>Latitude</th>\n",
       "      <th>Longitude</th>\n",
       "      <th>KivaPIN</th>\n",
       "      <th>Property Owner</th>\n",
       "      <th>Order to Demolish Or Repair Sent</th>\n",
       "      <th>Project Phase</th>\n",
       "      <th>Structure Type</th>\n",
       "      <th>Structure Rating</th>\n",
       "      <th>Mapped Location</th>\n",
       "    </tr>\n",
       "  </thead>\n",
       "  <tbody>\n",
       "    <tr>\n",
       "      <th>0</th>\n",
       "      <td>1149487</td>\n",
       "      <td>12/03/2015</td>\n",
       "      <td>Monitoring Owner Compliance</td>\n",
       "      <td>1115 N Bellefontaine Ave</td>\n",
       "      <td>KANSAS CITY</td>\n",
       "      <td>MO</td>\n",
       "      <td>NaN</td>\n",
       "      <td>NaN</td>\n",
       "      <td>NaN</td>\n",
       "      <td>NaN</td>\n",
       "      <td>38588</td>\n",
       "      <td>Private</td>\n",
       "      <td>NaN</td>\n",
       "      <td>NaN</td>\n",
       "      <td>House</td>\n",
       "      <td>Repair/Receivership</td>\n",
       "      <td>1115 N Bellefontaine Ave\\n(39.128612, -94.544624)</td>\n",
       "    </tr>\n",
       "    <tr>\n",
       "      <th>1</th>\n",
       "      <td>1116561</td>\n",
       "      <td>08/18/2014</td>\n",
       "      <td>Downgraded/No Longer a DB</td>\n",
       "      <td>12504 E 54TH TER</td>\n",
       "      <td>KANSAS CITY</td>\n",
       "      <td>MO</td>\n",
       "      <td>64133.0</td>\n",
       "      <td>Fairway Hills</td>\n",
       "      <td>39.022486</td>\n",
       "      <td>-94.430896</td>\n",
       "      <td>63094</td>\n",
       "      <td>Private</td>\n",
       "      <td>NaN</td>\n",
       "      <td>47/63 Strategic Area</td>\n",
       "      <td>House</td>\n",
       "      <td>Regular Demolition</td>\n",
       "      <td>12504 E 54TH TER\\nKANSAS CITY 64133\\n(39.02248...</td>\n",
       "    </tr>\n",
       "  </tbody>\n",
       "</table>\n",
       "</div>"
      ],
      "text/plain": [
       "   Service Order Number Date Opened             Structure Status  \\\n",
       "0               1149487  12/03/2015  Monitoring Owner Compliance   \n",
       "1               1116561  08/18/2014    Downgraded/No Longer a DB   \n",
       "\n",
       "                    Address         City State  Zip Code   Neighborhood  \\\n",
       "0  1115 N Bellefontaine Ave  KANSAS CITY    MO       NaN            NaN   \n",
       "1          12504 E 54TH TER  KANSAS CITY    MO   64133.0  Fairway Hills   \n",
       "\n",
       "    Latitude  Longitude  KivaPIN Property Owner  \\\n",
       "0        NaN        NaN    38588        Private   \n",
       "1  39.022486 -94.430896    63094        Private   \n",
       "\n",
       "   Order to Demolish Or Repair Sent         Project Phase Structure Type  \\\n",
       "0                               NaN                   NaN          House   \n",
       "1                               NaN  47/63 Strategic Area          House   \n",
       "\n",
       "      Structure Rating                                    Mapped Location  \n",
       "0  Repair/Receivership  1115 N Bellefontaine Ave\\n(39.128612, -94.544624)  \n",
       "1   Regular Demolition  12504 E 54TH TER\\nKANSAS CITY 64133\\n(39.02248...  "
      ]
     },
     "execution_count": 5,
     "metadata": {},
     "output_type": "execute_result"
    }
   ],
   "source": [
    "#Extract $10M Buildings\n",
    "ten_mil_file = \"../Resource/_10M_Demolition_List.csv\"\n",
    "ten_mil_df = pd.read_csv(ten_mil_file)\n",
    "ten_mil_df.head(2)"
   ]
  },
  {
   "cell_type": "code",
   "execution_count": 6,
   "metadata": {},
   "outputs": [
    {
     "data": {
      "text/html": [
       "<div>\n",
       "<style scoped>\n",
       "    .dataframe tbody tr th:only-of-type {\n",
       "        vertical-align: middle;\n",
       "    }\n",
       "\n",
       "    .dataframe tbody tr th {\n",
       "        vertical-align: top;\n",
       "    }\n",
       "\n",
       "    .dataframe thead th {\n",
       "        text-align: right;\n",
       "    }\n",
       "</style>\n",
       "<table border=\"1\" class=\"dataframe\">\n",
       "  <thead>\n",
       "    <tr style=\"text-align: right;\">\n",
       "      <th></th>\n",
       "      <th>service_order_number</th>\n",
       "      <th>opened</th>\n",
       "      <th>structure_status</th>\n",
       "      <th>property_owner</th>\n",
       "      <th>structure_type</th>\n",
       "      <th>structure_rating</th>\n",
       "      <th>latitude</th>\n",
       "      <th>longitude</th>\n",
       "      <th>location</th>\n",
       "    </tr>\n",
       "  </thead>\n",
       "  <tbody>\n",
       "    <tr>\n",
       "      <th>0</th>\n",
       "      <td>1149487</td>\n",
       "      <td>12/03/2015</td>\n",
       "      <td>Monitoring Owner Compliance</td>\n",
       "      <td>Private</td>\n",
       "      <td>House</td>\n",
       "      <td>Repair/Receivership</td>\n",
       "      <td>NaN</td>\n",
       "      <td>NaN</td>\n",
       "      <td>1115 N Bellefontaine Ave\\n(39.128612, -94.544624)</td>\n",
       "    </tr>\n",
       "    <tr>\n",
       "      <th>1</th>\n",
       "      <td>1116561</td>\n",
       "      <td>08/18/2014</td>\n",
       "      <td>Downgraded/No Longer a DB</td>\n",
       "      <td>Private</td>\n",
       "      <td>House</td>\n",
       "      <td>Regular Demolition</td>\n",
       "      <td>39.022486</td>\n",
       "      <td>-94.430896</td>\n",
       "      <td>12504 E 54TH TER\\nKANSAS CITY 64133\\n(39.02248...</td>\n",
       "    </tr>\n",
       "  </tbody>\n",
       "</table>\n",
       "</div>"
      ],
      "text/plain": [
       "   service_order_number      opened             structure_status  \\\n",
       "0               1149487  12/03/2015  Monitoring Owner Compliance   \n",
       "1               1116561  08/18/2014    Downgraded/No Longer a DB   \n",
       "\n",
       "  property_owner structure_type     structure_rating   latitude  longitude  \\\n",
       "0        Private          House  Repair/Receivership        NaN        NaN   \n",
       "1        Private          House   Regular Demolition  39.022486 -94.430896   \n",
       "\n",
       "                                            location  \n",
       "0  1115 N Bellefontaine Ave\\n(39.128612, -94.544624)  \n",
       "1  12504 E 54TH TER\\nKANSAS CITY 64133\\n(39.02248...  "
      ]
     },
     "execution_count": 6,
     "metadata": {},
     "output_type": "execute_result"
    }
   ],
   "source": [
    "#Transform $10M DataFrame\n",
    "limit_ten_mil_df = ten_mil_df[['Service Order Number','Date Opened','Structure Status','Property Owner','Structure Type','Structure Rating','Latitude','Longitude','Mapped Location']].copy()\n",
    "limit_ten_mil_df = limit_ten_mil_df.rename(columns={\"Service Order Number\":\"service_order_number\",\"Structure Status\":\"structure_status\",\"Property Owner\":\"property_owner\",\"Structure Type\":\"structure_type\",\"Structure Rating\":\"structure_rating\",'Date Opened':'opened','Mapped Location':'location', 'Latitude':'latitude', 'Longitude':'longitude'})\n",
    "# limit_ten_mil_df.set_index('Location', inplace = True)\n",
    "limit_ten_mil_df.head(2)"
   ]
  },
  {
   "cell_type": "markdown",
   "metadata": {},
   "source": [
    "### Create Database Connection"
   ]
  },
  {
   "cell_type": "code",
   "execution_count": 47,
   "metadata": {},
   "outputs": [],
   "source": [
    "connection_string = \"postgres:postgres@localhost:5432/project_test2\"\n",
    "engine = create_engine(f'postgresql://{connection_string}')"
   ]
  },
  {
   "cell_type": "code",
   "execution_count": 48,
   "metadata": {},
   "outputs": [
    {
     "data": {
      "text/plain": [
       "['build', 'demo']"
      ]
     },
     "execution_count": 48,
     "metadata": {},
     "output_type": "execute_result"
    }
   ],
   "source": [
    "# Confirm tables\n",
    "engine.table_names()"
   ]
  },
  {
   "cell_type": "markdown",
   "metadata": {},
   "source": [
    "### Load Dataframes into Database"
   ]
  },
  {
   "cell_type": "code",
   "execution_count": 49,
   "metadata": {},
   "outputs": [],
   "source": [
    "# used replace instead of append. With replace we are creating the tables with given table names in the sql database. \n",
    "# Thats why when we confirm the tabeles second time it gives us the table names\n",
    "limit_dangerous_df.to_sql(name='build', con=engine, if_exists='append', index=False)"
   ]
  },
  {
   "cell_type": "code",
   "execution_count": 50,
   "metadata": {},
   "outputs": [],
   "source": [
    "limit_ten_mil_df.to_sql(name='demo', con=engine, if_exists='append', index=False)"
   ]
  },
  {
   "cell_type": "code",
   "execution_count": 51,
   "metadata": {},
   "outputs": [
    {
     "data": {
      "text/plain": [
       "['build', 'demo']"
      ]
     },
     "execution_count": 51,
     "metadata": {},
     "output_type": "execute_result"
    }
   ],
   "source": [
    "# Confirm tables\n",
    "engine.table_names()"
   ]
  },
  {
   "cell_type": "markdown",
   "metadata": {},
   "source": [
    "### Querying the tables"
   ]
  },
  {
   "cell_type": "code",
   "execution_count": 52,
   "metadata": {},
   "outputs": [],
   "source": [
    "connection = engine.connect()"
   ]
  },
  {
   "cell_type": "code",
   "execution_count": 53,
   "metadata": {},
   "outputs": [
    {
     "data": {
      "text/html": [
       "<div>\n",
       "<style scoped>\n",
       "    .dataframe tbody tr th:only-of-type {\n",
       "        vertical-align: middle;\n",
       "    }\n",
       "\n",
       "    .dataframe tbody tr th {\n",
       "        vertical-align: top;\n",
       "    }\n",
       "\n",
       "    .dataframe thead th {\n",
       "        text-align: right;\n",
       "    }\n",
       "</style>\n",
       "<table border=\"1\" class=\"dataframe\">\n",
       "  <thead>\n",
       "    <tr style=\"text-align: right;\">\n",
       "      <th></th>\n",
       "      <th>case_number</th>\n",
       "      <th>opened</th>\n",
       "      <th>case_status</th>\n",
       "      <th>location</th>\n",
       "      <th>latitude</th>\n",
       "      <th>longitude</th>\n",
       "    </tr>\n",
       "  </thead>\n",
       "  <tbody>\n",
       "    <tr>\n",
       "      <th>0</th>\n",
       "      <td>1226669</td>\n",
       "      <td>2019-08-20</td>\n",
       "      <td>Pre-Bid Process Ongoing</td>\n",
       "      <td>1104 Ewing Ave\\nKansas City, MO 64126\\n(39.098...</td>\n",
       "      <td>39.098316</td>\n",
       "      <td>-94.503382</td>\n",
       "    </tr>\n",
       "    <tr>\n",
       "      <th>1</th>\n",
       "      <td>1180446</td>\n",
       "      <td>2017-06-21</td>\n",
       "      <td>Pre-Bid Process Ongoing</td>\n",
       "      <td>5412 E 17th St\\nKansas City, MO 64127\\n(39.090...</td>\n",
       "      <td>39.090801</td>\n",
       "      <td>-94.518413</td>\n",
       "    </tr>\n",
       "  </tbody>\n",
       "</table>\n",
       "</div>"
      ],
      "text/plain": [
       "   case_number      opened              case_status  \\\n",
       "0      1226669  2019-08-20  Pre-Bid Process Ongoing   \n",
       "1      1180446  2017-06-21  Pre-Bid Process Ongoing   \n",
       "\n",
       "                                            location   latitude  longitude  \n",
       "0  1104 Ewing Ave\\nKansas City, MO 64126\\n(39.098...  39.098316 -94.503382  \n",
       "1  5412 E 17th St\\nKansas City, MO 64127\\n(39.090...  39.090801 -94.518413  "
      ]
     },
     "execution_count": 53,
     "metadata": {},
     "output_type": "execute_result"
    }
   ],
   "source": [
    "build_query = pd.read_sql (\"SELECT * FROM build \",connection )\n",
    "\n",
    "build_query.head(2)"
   ]
  },
  {
   "cell_type": "code",
   "execution_count": 54,
   "metadata": {},
   "outputs": [
    {
     "data": {
      "text/html": [
       "<div>\n",
       "<style scoped>\n",
       "    .dataframe tbody tr th:only-of-type {\n",
       "        vertical-align: middle;\n",
       "    }\n",
       "\n",
       "    .dataframe tbody tr th {\n",
       "        vertical-align: top;\n",
       "    }\n",
       "\n",
       "    .dataframe thead th {\n",
       "        text-align: right;\n",
       "    }\n",
       "</style>\n",
       "<table border=\"1\" class=\"dataframe\">\n",
       "  <thead>\n",
       "    <tr style=\"text-align: right;\">\n",
       "      <th></th>\n",
       "      <th>service_order_number</th>\n",
       "      <th>opened</th>\n",
       "      <th>structure_status</th>\n",
       "      <th>neighborhood</th>\n",
       "      <th>property_owner</th>\n",
       "      <th>structure_type</th>\n",
       "      <th>structure_rating</th>\n",
       "      <th>location</th>\n",
       "      <th>latitude</th>\n",
       "      <th>longitude</th>\n",
       "    </tr>\n",
       "  </thead>\n",
       "  <tbody>\n",
       "    <tr>\n",
       "      <th>0</th>\n",
       "      <td>1149487</td>\n",
       "      <td>12/03/2015</td>\n",
       "      <td>Monitoring Owner Compliance</td>\n",
       "      <td>None</td>\n",
       "      <td>Private</td>\n",
       "      <td>House</td>\n",
       "      <td>Repair/Receivership</td>\n",
       "      <td>1115 N Bellefontaine Ave\\n(39.128612, -94.544624)</td>\n",
       "      <td>NaN</td>\n",
       "      <td>NaN</td>\n",
       "    </tr>\n",
       "    <tr>\n",
       "      <th>1</th>\n",
       "      <td>1116561</td>\n",
       "      <td>08/18/2014</td>\n",
       "      <td>Downgraded/No Longer a DB</td>\n",
       "      <td>None</td>\n",
       "      <td>Private</td>\n",
       "      <td>House</td>\n",
       "      <td>Regular Demolition</td>\n",
       "      <td>12504 E 54TH TER\\nKANSAS CITY 64133\\n(39.02248...</td>\n",
       "      <td>39.022486</td>\n",
       "      <td>-94.430896</td>\n",
       "    </tr>\n",
       "  </tbody>\n",
       "</table>\n",
       "</div>"
      ],
      "text/plain": [
       "   service_order_number      opened             structure_status neighborhood  \\\n",
       "0               1149487  12/03/2015  Monitoring Owner Compliance         None   \n",
       "1               1116561  08/18/2014    Downgraded/No Longer a DB         None   \n",
       "\n",
       "  property_owner structure_type     structure_rating  \\\n",
       "0        Private          House  Repair/Receivership   \n",
       "1        Private          House   Regular Demolition   \n",
       "\n",
       "                                            location   latitude  longitude  \n",
       "0  1115 N Bellefontaine Ave\\n(39.128612, -94.544624)        NaN        NaN  \n",
       "1  12504 E 54TH TER\\nKANSAS CITY 64133\\n(39.02248...  39.022486 -94.430896  "
      ]
     },
     "execution_count": 54,
     "metadata": {},
     "output_type": "execute_result"
    }
   ],
   "source": [
    "demo_query  = pd.read_sql (\"SELECT*FROM demo\",connection )\n",
    "\n",
    "demo_query.head(2)"
   ]
  },
  {
   "cell_type": "code",
   "execution_count": 58,
   "metadata": {},
   "outputs": [
    {
     "data": {
      "text/html": [
       "<div>\n",
       "<style scoped>\n",
       "    .dataframe tbody tr th:only-of-type {\n",
       "        vertical-align: middle;\n",
       "    }\n",
       "\n",
       "    .dataframe tbody tr th {\n",
       "        vertical-align: top;\n",
       "    }\n",
       "\n",
       "    .dataframe thead th {\n",
       "        text-align: right;\n",
       "    }\n",
       "</style>\n",
       "<table border=\"1\" class=\"dataframe\">\n",
       "  <thead>\n",
       "    <tr style=\"text-align: right;\">\n",
       "      <th></th>\n",
       "      <th>location</th>\n",
       "    </tr>\n",
       "  </thead>\n",
       "  <tbody>\n",
       "    <tr>\n",
       "      <th>0</th>\n",
       "      <td>1104 Ewing Ave\\nKansas City, MO 64126\\n(39.098...</td>\n",
       "    </tr>\n",
       "    <tr>\n",
       "      <th>1</th>\n",
       "      <td>5412 E 17th St\\nKansas City, MO 64127\\n(39.090...</td>\n",
       "    </tr>\n",
       "    <tr>\n",
       "      <th>2</th>\n",
       "      <td>526 BENTON BLVD\\nKansas City, MO 64124\\n(39.10...</td>\n",
       "    </tr>\n",
       "    <tr>\n",
       "      <th>3</th>\n",
       "      <td>3810 E 68th St\\nKansas City, MO 64132\\n(39.003...</td>\n",
       "    </tr>\n",
       "    <tr>\n",
       "      <th>4</th>\n",
       "      <td>2304 Kensington Ave\\nKansas City, MO 64127\\n(3...</td>\n",
       "    </tr>\n",
       "    <tr>\n",
       "      <th>...</th>\n",
       "      <td>...</td>\n",
       "    </tr>\n",
       "    <tr>\n",
       "      <th>629</th>\n",
       "      <td>4501 E 60th St\\nKansas City, MO 64130\\n(39.016...</td>\n",
       "    </tr>\n",
       "    <tr>\n",
       "      <th>630</th>\n",
       "      <td>611 Cypress Ave\\nKansas City, MO 64124\\n(39.10...</td>\n",
       "    </tr>\n",
       "    <tr>\n",
       "      <th>631</th>\n",
       "      <td>2604 Spruce Ave\\nKansas City, MO 64127\\n(39.07...</td>\n",
       "    </tr>\n",
       "    <tr>\n",
       "      <th>632</th>\n",
       "      <td>11719 Troost Ave\\nKansas City, MO 64131\\n(38.9...</td>\n",
       "    </tr>\n",
       "    <tr>\n",
       "      <th>633</th>\n",
       "      <td>2510 Brighton Ave\\nKansas City, MO 64127\\n(39....</td>\n",
       "    </tr>\n",
       "  </tbody>\n",
       "</table>\n",
       "<p>634 rows × 1 columns</p>\n",
       "</div>"
      ],
      "text/plain": [
       "                                              location\n",
       "0    1104 Ewing Ave\\nKansas City, MO 64126\\n(39.098...\n",
       "1    5412 E 17th St\\nKansas City, MO 64127\\n(39.090...\n",
       "2    526 BENTON BLVD\\nKansas City, MO 64124\\n(39.10...\n",
       "3    3810 E 68th St\\nKansas City, MO 64132\\n(39.003...\n",
       "4    2304 Kensington Ave\\nKansas City, MO 64127\\n(3...\n",
       "..                                                 ...\n",
       "629  4501 E 60th St\\nKansas City, MO 64130\\n(39.016...\n",
       "630  611 Cypress Ave\\nKansas City, MO 64124\\n(39.10...\n",
       "631  2604 Spruce Ave\\nKansas City, MO 64127\\n(39.07...\n",
       "632  11719 Troost Ave\\nKansas City, MO 64131\\n(38.9...\n",
       "633  2510 Brighton Ave\\nKansas City, MO 64127\\n(39....\n",
       "\n",
       "[634 rows x 1 columns]"
      ]
     },
     "execution_count": 58,
     "metadata": {},
     "output_type": "execute_result"
    }
   ],
   "source": [
    "# Join tables on location\n",
    "building_query = pd.read_sql_query (\"SELECT \\\"location\\\" from build\", connection)\n",
    "building_query"
   ]
  },
  {
   "cell_type": "code",
   "execution_count": 60,
   "metadata": {},
   "outputs": [
    {
     "data": {
      "text/html": [
       "<div>\n",
       "<style scoped>\n",
       "    .dataframe tbody tr th:only-of-type {\n",
       "        vertical-align: middle;\n",
       "    }\n",
       "\n",
       "    .dataframe tbody tr th {\n",
       "        vertical-align: top;\n",
       "    }\n",
       "\n",
       "    .dataframe thead th {\n",
       "        text-align: right;\n",
       "    }\n",
       "</style>\n",
       "<table border=\"1\" class=\"dataframe\">\n",
       "  <thead>\n",
       "    <tr style=\"text-align: right;\">\n",
       "      <th></th>\n",
       "      <th>location</th>\n",
       "    </tr>\n",
       "  </thead>\n",
       "  <tbody>\n",
       "    <tr>\n",
       "      <th>0</th>\n",
       "      <td>1115 N Bellefontaine Ave\\n(39.128612, -94.544624)</td>\n",
       "    </tr>\n",
       "    <tr>\n",
       "      <th>1</th>\n",
       "      <td>12504 E 54TH TER\\nKANSAS CITY 64133\\n(39.02248...</td>\n",
       "    </tr>\n",
       "    <tr>\n",
       "      <th>2</th>\n",
       "      <td>3008 CHERRY ST\\nKANSAS CITY 64108\\n(39.072134,...</td>\n",
       "    </tr>\n",
       "    <tr>\n",
       "      <th>3</th>\n",
       "      <td>2316 LAWNDALE AVE\\nKANSAS CITY 64127\\n(39.0822...</td>\n",
       "    </tr>\n",
       "    <tr>\n",
       "      <th>4</th>\n",
       "      <td>4015 PROSPECT AVE\\nKANSAS CITY 64130\\n(39.0529...</td>\n",
       "    </tr>\n",
       "    <tr>\n",
       "      <th>...</th>\n",
       "      <td>...</td>\n",
       "    </tr>\n",
       "    <tr>\n",
       "      <th>886</th>\n",
       "      <td>4037 PARK AVE\\nKANSAS CITY 64130\\n(39.052418, ...</td>\n",
       "    </tr>\n",
       "    <tr>\n",
       "      <th>887</th>\n",
       "      <td>212 ASKEW AVE\\nKANSAS CITY 64123\\n(39.111734, ...</td>\n",
       "    </tr>\n",
       "    <tr>\n",
       "      <th>888</th>\n",
       "      <td>4732 E 44TH ST\\nKANSAS CITY 64130\\n(39.045002,...</td>\n",
       "    </tr>\n",
       "    <tr>\n",
       "      <th>889</th>\n",
       "      <td>2511 E 21st St\\nKANSAS CITY 64127\\n(39.086599,...</td>\n",
       "    </tr>\n",
       "    <tr>\n",
       "      <th>890</th>\n",
       "      <td>2806 E 30th St\\nKANSAS CITY 64128\\n(39.071872,...</td>\n",
       "    </tr>\n",
       "  </tbody>\n",
       "</table>\n",
       "<p>891 rows × 1 columns</p>\n",
       "</div>"
      ],
      "text/plain": [
       "                                              location\n",
       "0    1115 N Bellefontaine Ave\\n(39.128612, -94.544624)\n",
       "1    12504 E 54TH TER\\nKANSAS CITY 64133\\n(39.02248...\n",
       "2    3008 CHERRY ST\\nKANSAS CITY 64108\\n(39.072134,...\n",
       "3    2316 LAWNDALE AVE\\nKANSAS CITY 64127\\n(39.0822...\n",
       "4    4015 PROSPECT AVE\\nKANSAS CITY 64130\\n(39.0529...\n",
       "..                                                 ...\n",
       "886  4037 PARK AVE\\nKANSAS CITY 64130\\n(39.052418, ...\n",
       "887  212 ASKEW AVE\\nKANSAS CITY 64123\\n(39.111734, ...\n",
       "888  4732 E 44TH ST\\nKANSAS CITY 64130\\n(39.045002,...\n",
       "889  2511 E 21st St\\nKANSAS CITY 64127\\n(39.086599,...\n",
       "890  2806 E 30th St\\nKANSAS CITY 64128\\n(39.071872,...\n",
       "\n",
       "[891 rows x 1 columns]"
      ]
     },
     "execution_count": 60,
     "metadata": {},
     "output_type": "execute_result"
    }
   ],
   "source": [
    "location = pd.read_sql_query (\"SELECT \\\"location\\\" FROM demo\", connection)\n",
    "location "
   ]
  },
  {
   "cell_type": "code",
   "execution_count": null,
   "metadata": {},
   "outputs": [],
   "source": []
  }
 ],
 "metadata": {
  "kernelspec": {
   "display_name": "Python 3",
   "language": "python",
   "name": "python3"
  },
  "language_info": {
   "codemirror_mode": {
    "name": "ipython",
    "version": 3
   },
   "file_extension": ".py",
   "mimetype": "text/x-python",
   "name": "python",
   "nbconvert_exporter": "python",
   "pygments_lexer": "ipython3",
   "version": "3.7.6"
  }
 },
 "nbformat": 4,
 "nbformat_minor": 4
}
